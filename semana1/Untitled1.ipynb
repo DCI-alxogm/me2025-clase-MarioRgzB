{
  "nbformat": 4,
  "nbformat_minor": 0,
  "metadata": {
    "colab": {
      "provenance": [],
      "authorship_tag": "ABX9TyM2x8LJiwnHcvdrTWqbJx9P",
      "include_colab_link": true
    },
    "kernelspec": {
      "name": "python3",
      "display_name": "Python 3"
    },
    "language_info": {
      "name": "python"
    }
  },
  "cells": [
    {
      "cell_type": "markdown",
      "metadata": {
        "id": "view-in-github",
        "colab_type": "text"
      },
      "source": [
        "<a href=\"https://colab.research.google.com/github/DCI-alxogm/me2025-clase-MarioRgzB/blob/main/semana1/Untitled1.ipynb\" target=\"_parent\"><img src=\"https://colab.research.google.com/assets/colab-badge.svg\" alt=\"Open In Colab\"/></a>"
      ]
    },
    {
      "cell_type": "code",
      "execution_count": 1,
      "metadata": {
        "id": "_uYmax1mcav7"
      },
      "outputs": [],
      "source": [
        "#tercer cuaderno"
      ]
    },
    {
      "cell_type": "code",
      "source": [
        "print(\"segunda prueba de cuaderno\")"
      ],
      "metadata": {
        "colab": {
          "base_uri": "https://localhost:8080/"
        },
        "id": "drv9wV-hcgUt",
        "outputId": "130808d6-b2f8-4ed2-9512-1e23d59d0f5a"
      },
      "execution_count": 4,
      "outputs": [
        {
          "output_type": "stream",
          "name": "stdout",
          "text": [
            "segunda prueba de cuaderno\n"
          ]
        }
      ]
    },
    {
      "cell_type": "code",
      "source": [],
      "metadata": {
        "id": "9_zNJ64ScoJk"
      },
      "execution_count": null,
      "outputs": []
    }
  ]
}